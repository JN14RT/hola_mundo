{
  "nbformat": 4,
  "nbformat_minor": 0,
  "metadata": {
    "colab": {
      "provenance": [],
      "authorship_tag": "ABX9TyOi8PbXDEaM4YU39Mo0O7Ez",
      "include_colab_link": true
    },
    "kernelspec": {
      "name": "python3",
      "display_name": "Python 3"
    },
    "language_info": {
      "name": "python"
    }
  },
  "cells": [
    {
      "cell_type": "markdown",
      "metadata": {
        "id": "view-in-github",
        "colab_type": "text"
      },
      "source": [
        "<a href=\"https://colab.research.google.com/github/JN14RT/hola_mundo/blob/main/b_t2_Jesica_Rodriguez.ipynb\" target=\"_parent\"><img src=\"https://colab.research.google.com/assets/colab-badge.svg\" alt=\"Open In Colab\"/></a>"
      ]
    },
    {
      "cell_type": "code",
      "execution_count": null,
      "metadata": {
        "id": "pkjh17WOsVE3"
      },
      "outputs": [],
      "source": [
        "print(\"Hola Mundo\")"
      ]
    },
    {
      "cell_type": "code",
      "source": [
        "num1 = float(input(\"Ingrese el primer número: \"))\n",
        "num2 = float(input(\"Ingrese el segundo número: \"))\n",
        "suma = num1 + num2\n",
        "print(\"La suma de los dos números es:\", suma)\n"
      ],
      "metadata": {
        "id": "stvJkfd9sqrY"
      },
      "execution_count": null,
      "outputs": []
    },
    {
      "cell_type": "code",
      "source": [
        "numero = int(input(\"Ingrese un número: \"))\n",
        "if numero % 2 == 0:\n",
        "    print(\"El número es par.\")\n",
        "else:\n",
        "    print(\"El número es impar.\")\n"
      ],
      "metadata": {
        "id": "8eJ0GelxszYA"
      },
      "execution_count": null,
      "outputs": []
    },
    {
      "cell_type": "code",
      "source": [
        "num1 = float(input(\"Ingrese el primer número: \"))\n",
        "num2 = float(input(\"Ingrese el segundo número: \"))\n",
        "operacion = input(\"Ingrese la operación (+, -, *, /): \")\n",
        "if operacion == '+':\n",
        "    resultado = num1 + num2\n",
        "elif operacion == '-':\n",
        "    resultado = num1 - num2\n",
        "elif operacion == '*':\n",
        "    resultado = num1 * num2\n",
        "elif operacion == '/':\n",
        "    if num2 != 0:\n",
        "        resultado = num1 / num2\n",
        "    else:\n",
        "        resultado = \"Error: División por cero\"\n",
        "else:\n",
        "    resultado = \"Operación no válida\"\n",
        "print(\"El resultado es:\", resultado)\n"
      ],
      "metadata": {
        "id": "m2lsRab5s8uR"
      },
      "execution_count": null,
      "outputs": []
    },
    {
      "cell_type": "code",
      "source": [
        "import math\n",
        "# Usamos la formula del circulo\n",
        "radio = float(input(\"Ingrese el radio del círculo: \"))\n",
        "\n",
        "area = math.pi * radio ** 2\n",
        "\n",
        "print(\"El área del círculo es:\", area)\n"
      ],
      "metadata": {
        "id": "wCyW-SZEs6aQ"
      },
      "execution_count": null,
      "outputs": []
    },
    {
      "cell_type": "code",
      "source": [
        "temperatura_celsius = float(input(\"Ingrese la temperatura en grados Celsius: \"))\n",
        "\n",
        "# unasamos la fórmula de conversión : F = (C * 9/5) + 32\n",
        "temperatura_fahrenheit = (temperatura_celsius * 9/5) + 32\n",
        "\n",
        "print(\"La temperatura en grados Fahrenheit es:\", temperatura_fahrenheit)\n"
      ],
      "metadata": {
        "id": "8JROEDERtPM8"
      },
      "execution_count": null,
      "outputs": []
    },
    {
      "cell_type": "code",
      "source": [
        "# Utilizamos un bucle for que recorre los números del 10 al 0 en orden descendente\n",
        "for i in range(10, -1, -1):\n",
        "    print(i)\n",
        "\n",
        "\n"
      ],
      "metadata": {
        "id": "MPBondi8tVmT"
      },
      "execution_count": null,
      "outputs": []
    },
    {
      "cell_type": "code",
      "source": [
        "for i in range(10, -1, -1):\n",
        "    print(i)\n"
      ],
      "metadata": {
        "id": "SyPaQ8_MtXpz"
      },
      "execution_count": null,
      "outputs": []
    },
    {
      "cell_type": "code",
      "source": [
        "numero = int(input(\"Ingrese un número para ver su tabla de multiplicar: \"))\n",
        "\n",
        "print(\"Tabla de multiplicar de\", numero, \":\")\n",
        "\n",
        "for i in range(1, 11):\n",
        "    resultado = numero * i\n",
        "    print(numero, \"x\", i, \"=\", resultado)\n"
      ],
      "metadata": {
        "id": "epDidNhDtZWj"
      },
      "execution_count": null,
      "outputs": []
    },
    {
      "cell_type": "code",
      "source": [
        "numero = int(input(\"Ingrese un número para verificar si es primo: \"))\n",
        "\n",
        "#  si el número es primo\n",
        "es_primo = True\n",
        "\n",
        "if numero <= 1:\n",
        "    es_primo = False\n",
        "else:\n",
        "    for i in range(2, int(numero ** 0.5) + 1):\n",
        "        if numero % i == 0:\n",
        "            es_primo = False\n",
        "            break\n",
        "\n",
        "# Muestra el resultado\n",
        "if es_primo:\n",
        "    print(numero, \"es un número primo.\")\n",
        "else:\n",
        "    print(numero, \"no es un número primo.\")\n"
      ],
      "metadata": {
        "id": "QBRlep24tbJb"
      },
      "execution_count": null,
      "outputs": []
    },
    {
      "cell_type": "code",
      "source": [
        "limite = int(input(\"Ingrese un número límite: \"))\n",
        "\n",
        "# Inisiamos la suma\n",
        "suma_total = 0\n",
        "\n",
        "# Calcular la suma de todos los números naturales hasta el límite\n",
        "for i in range(1, limite + 1):\n",
        "    suma_total += i\n",
        "\n",
        "# Muestra el resultado con el el print\n",
        "print(\"La suma de todos los números naturales hasta\", limite, \"es:\", suma_total)"
      ],
      "metadata": {
        "id": "E05V0rfBtfXc"
      },
      "execution_count": null,
      "outputs": []
    },
    {
      "cell_type": "code",
      "source": [
        "cadena = input(\"Ingrese una cadena para invertirla: \")\n",
        "\n",
        "# Utilizamos el slicing con paso negativo para invertir la cadena\n",
        "cadena_invertida = cadena[::-1]\n",
        "\n",
        "print(\"La cadena invertida es:\", cadena_invertida)"
      ],
      "metadata": {
        "id": "-8A8JCoou_x3"
      },
      "execution_count": null,
      "outputs": []
    },
    {
      "cell_type": "code",
      "source": [
        "cadena = input(\"Ingrese una cadena para verificar si es un palíndromo: \")\n",
        "\n",
        "# Eliminamos los espacios en blanco y convertimos la cadena a minúsculas\n",
        "cadena = cadena.replace(\" \", \"\").lower()\n",
        "\n",
        "# Verificamos si la cadena es igual a su inversa\n",
        "if cadena == cadena[::-1]:\n",
        "    print(\"La cadena ingresada es un palíndromo.\")\n",
        "else:\n",
        "    print(\"La cadena ingresada no es un palíndromo.\")"
      ],
      "metadata": {
        "id": "-BbGHJb0vAxw"
      },
      "execution_count": null,
      "outputs": []
    },
    {
      "cell_type": "code",
      "source": [
        "numero = int(input(\"Ingrese un número para calcular su factorial: \"))\n",
        "\n",
        "# Verificamos si el número es negativo\n",
        "if numero < 0:\n",
        "    print(\"No se puede calcular el factorial de un número negativo.\")\n",
        "elif numero == 0:\n",
        "    print(\"El factorial de 0 es 1.\")\n",
        "else:\n",
        "    factorial = 1\n",
        "    for i in range(1, numero + 1):\n",
        "        factorial *= i\n",
        "    print(\"El factorial de\", numero, \"es:\", factorial)"
      ],
      "metadata": {
        "id": "wzwjP-PuvEff"
      },
      "execution_count": null,
      "outputs": []
    },
    {
      "cell_type": "code",
      "source": [
        "import random\n",
        "\n",
        "print(\"Generando 5 números aleatorios entre 1 y 100:\")\n",
        "for _ in range(5):\n",
        "    numero = random.randint(1, 100)\n",
        "    print(numero)"
      ],
      "metadata": {
        "id": "JW085jYRvKJY"
      },
      "execution_count": null,
      "outputs": []
    },
    {
      "cell_type": "code",
      "source": [
        "# pedimos al usuario que ingrese\n",
        "peso = float(input(\"Ingrese su peso en kilogramos: \"))\n",
        "altura = float(input(\"Ingrese su altura en metros: \"))\n",
        "\n",
        "# aqui utilizamos la fórmula: peso / altura al cuadrado\n",
        "imc = peso / (altura ** 2)\n",
        "\n",
        "print(\"Su índice de masa corporal (IMC) es:\", imc)"
      ],
      "metadata": {
        "id": "uLzsx4f4vNKx"
      },
      "execution_count": null,
      "outputs": []
    }
  ]
}