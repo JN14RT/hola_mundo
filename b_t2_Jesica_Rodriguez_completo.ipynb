{
  "nbformat": 4,
  "nbformat_minor": 0,
  "metadata": {
    "colab": {
      "provenance": [],
      "authorship_tag": "ABX9TyMwPe0lEs39S0hBgezTsgaV",
      "include_colab_link": true
    },
    "kernelspec": {
      "name": "python3",
      "display_name": "Python 3"
    },
    "language_info": {
      "name": "python"
    }
  },
  "cells": [
    {
      "cell_type": "markdown",
      "metadata": {
        "id": "view-in-github",
        "colab_type": "text"
      },
      "source": [
        "<a href=\"https://colab.research.google.com/github/JN14RT/hola_mundo/blob/main/b_t2_Jesica_Rodriguez_completo.ipynb\" target=\"_parent\"><img src=\"https://colab.research.google.com/assets/colab-badge.svg\" alt=\"Open In Colab\"/></a>"
      ]
    },
    {
      "cell_type": "code",
      "execution_count": null,
      "metadata": {
        "id": "pkjh17WOsVE3"
      },
      "outputs": [],
      "source": [
        "# Usamos el print  que nos ayuda a que todo lo que este entre  los parentecis se imprimira por pantalla\n",
        "print(\"Hola Mundo\")"
      ]
    },
    {
      "cell_type": "code",
      "source": [
        "#Creamos  dos variables   usando un float que nos servira para  que  el usuario ingrese  todo tipo de numeros, entre ellos enteros o decimales.\n",
        "# tambien usamos input  que nos ayuda a  que  el usuario ingrese datos  o en este caso los numeros.\n",
        "#Variable 1\n",
        "num1 = float(input(\"Ingrese el primer número: \"))\n",
        "#variable 2\n",
        "num2 = float(input(\"Ingrese el segundo número: \"))\n",
        "#Aqui damos la orden que  nos sume  los datos que el usuario ingreso  en la variable 1 + la variable 2.\n",
        "suma = num1 + num2\n",
        "# El print mostrara en pantalla   el mensaje escrito por nosotros y  luego  esta escrita la palabra (suma) para reflegara la suma de los valores ingresados por el usuario.\n",
        "print(\"La suma de los dos números es:\", suma)\n"
      ],
      "metadata": {
        "id": "stvJkfd9sqrY"
      },
      "execution_count": null,
      "outputs": []
    },
    {
      "cell_type": "code",
      "source": [
        "# A qui estamos pidiendo al usuario que  ingrese un numero entero  ya que eso significa (int)\n",
        "# Y en este caso  el (input) nos servira para que  el mensaje escrito se refleje en pantalla  y el usuario pueda ingresarlo.\n",
        "numero = int(input(\"Ingrese un número: \"))\n",
        "# El (if) significa    una condicion, en este caso dice que  si en numero ingresado por el usuario  es multiplo de 2 es par.\n",
        "if numero % 2 == 0:\n",
        "# Este mensaje se imprimira  solo si la condicion del (if) se cummple.\n",
        "    print(\"El número es par.\")\n",
        "# El (else) es si la condicion que pusimoms en el (if) no se cumple se imprimira  el mensaje que  esta en (print).\n",
        "else:\n",
        "    print(\"El número es impar.\")\n"
      ],
      "metadata": {
        "id": "8eJ0GelxszYA"
      },
      "execution_count": null,
      "outputs": []
    },
    {
      "cell_type": "code",
      "source": [
        "# Aqui pedimos al usuario  que ingrese la primera variable que sera un numero de tipo (float) para que pueda  ingresar numeros enteros o  decimales sin ningun problema.\n",
        "num1 = float(input(\"Ingrese el primer número: \"))\n",
        "# Aqui  pedimos al usuario  la segunda variable  que de igual manera es  de tipo flotante.\n",
        "num2 = float(input(\"Ingrese el segundo número: \"))\n",
        "# Le pedimos al usuario que  ingrese   el signo de la operacion que decea realizar ya sea (+)(-)(*)(/)\n",
        "operacion = input(\"Ingrese la operación (+, -, *, /): \")\n",
        "# aqui tenemos  una condicion (if) nos dice que si el usuario  escogio  el sinbolo de suma (+) sera realizara una suma.\n",
        "if operacion == '+':\n",
        "# aqui nos dice que  el resultado sera  la variable1   mas  la variable 2 ya que  se escogio el signo de suma(+).\n",
        "    resultado = num1 + num2\n",
        "#Aqui usamos el elif  is la condicion (if) no se  cumple osea no es una (+) suma , en este caso es una resta (-)  realize una resta (-) entre las variables.\n",
        "elif operacion == '-':\n",
        "# Nuestro resultado seria la variable 1  menos (-) la variable 2 esa sera nustra respuesta.\n",
        "    resultado = num1 - num2\n",
        "# De  la misma manera  si la condicion de (if) no se cumple e ingresa el simbolo de multiplicacion (*) sera una multiplicacion.\n",
        "elif operacion == '*':\n",
        "# En este caso  como se escogio la multiplicacion (*)  nuestras variables seran dispuesta  a una multiplicacion(*).\n",
        "    resultado = num1 * num2\n",
        "# Y  si se escoge el simbolo de divicion (/)  nuestras variables serviran para realisar la divicion de las mismas.\n",
        "elif operacion == '/':\n",
        "# A qui nos dice  que si uno de los numeros ingresado es cero  no sera valido\n",
        "    if num2 != 0:\n",
        "#  y nuestro resultado sera  la divicion entre la variable 1  y la variable 2.\n",
        "        resultado = num1 / num2\n",
        "# Si la divicion es para  cero  no dara que es un error ya que en  la condicion (if) de divicion   nos lo dice.\n",
        "    else:\n",
        "        resultado = \"Error: División por cero\"\n",
        "else:\n",
        "    resultado = \"Operación no válida\"\n",
        "#Con este (print )  dira nuestro resultado de cualquiera de nuestras condiciones o bueno la escogida por el usuario\n",
        "print(\"El resultado es:\", resultado)\n"
      ],
      "metadata": {
        "id": "m2lsRab5s8uR",
        "colab": {
          "base_uri": "https://localhost:8080/"
        },
        "outputId": "4a2ee829-2f9d-49e4-c043-bc5bcedcadf7"
      },
      "execution_count": 4,
      "outputs": [
        {
          "output_type": "stream",
          "name": "stdout",
          "text": [
            "Ingrese el primer número: 5\n",
            "Ingrese el segundo número: 0\n",
            "Ingrese la operación (+, -, *, /): /\n",
            "El resultado es: Error: División por cero\n"
          ]
        }
      ]
    },
    {
      "cell_type": "code",
      "source": [
        "# Usamos la declaración \"import math\"  el cual proporciona funciones y constantes matemáticas para realizar operaciones matemáticas más avanzadas.\n",
        "import math\n",
        "#Aqui decimos  que el radio sera los numeros  ingresados por el usuario  y con el (float) decimos que  nuestro programa funcionara ya sea con  enteros o decimales.\n",
        "radio = float(input(\"Ingrese el radio del círculo: \"))\n",
        "# Usamos la formula del circulo.\n",
        "area = math.pi * radio ** 2\n",
        "#Aqui  usaremos el (print) para   dar un mensaje  especifico de  el resultado de la area del circulo.\n",
        "print(\"El área del círculo es:\", area)\n"
      ],
      "metadata": {
        "id": "wCyW-SZEs6aQ"
      },
      "execution_count": null,
      "outputs": []
    },
    {
      "cell_type": "code",
      "source": [
        "# Le pedimos al usuario que ingrese  la temperatura en grados celsius usando un (float) para que nuestro programa funcione con numeros enteros y tambien con decimales.\n",
        "temperatura_celsius = float(input(\"Ingrese la temperatura en grados Celsius: \"))\n",
        "#Usamos la fórmula de conversión : F = (C * 9/5) + 32 y la  encerramos en la variable tempertura_fahrenheit para no tener que poner todos los datos .\n",
        "temperatura_fahrenheit = (temperatura_celsius * 9/5) + 32\n",
        "#Se imprimira  los  grados  Fahrenheit   de la temperatura en pantalla.\n",
        "print(\"La temperatura en grados Fahrenheit es:\", temperatura_fahrenheit)\n"
      ],
      "metadata": {
        "id": "8JROEDERtPM8"
      },
      "execution_count": null,
      "outputs": []
    },
    {
      "cell_type": "code",
      "source": [
        "# Utilizamos un bucle for que recorre los números del 10 al 0 en orden descendente y el (range) nos servira para definir un rago que va a recorrer\n",
        "for i in range(10, -1, -1):\n",
        "# Se imprimira el valor actual de i en cada iteración del bucle, lo que mostrará los números en orden descendente desde 10 hasta 0.\n",
        "    print(i)\n",
        "\n",
        "\n"
      ],
      "metadata": {
        "id": "MPBondi8tVmT",
        "colab": {
          "base_uri": "https://localhost:8080/"
        },
        "outputId": "d0761947-04d3-4cad-8191-40cd2da39be6"
      },
      "execution_count": 5,
      "outputs": [
        {
          "output_type": "stream",
          "name": "stdout",
          "text": [
            "10\n",
            "9\n",
            "8\n",
            "7\n",
            "6\n",
            "5\n",
            "4\n",
            "3\n",
            "2\n",
            "1\n",
            "0\n"
          ]
        }
      ]
    },
    {
      "cell_type": "code",
      "source": [
        "#solicita al usuario que ingrese un número  que sera la variable numero input() devuelve una cadena de texto que representa lo que el usuario ha ingresado, y (int()) la convierte a un número entero.\n",
        "numero = int(input(\"Ingrese un número para ver su tabla de multiplicar: \"))\n",
        "# Aqui se imprime indicando que se mostrará la tabla de multiplicar del número ingresado por el usuario.\n",
        "print(\"Tabla de multiplicar de\", numero, \":\")\n",
        "# El (for) nos servira para generar los números que multiplicarán al número ingresado por el usuario en la tabla de multiplicar.\n",
        "for i in range(1, 11):\n",
        "#Aqui multiplicamos el número ingresado por el usuario (numero) por el número actual del bucle (i) y guarda el resultado en la variable resultado.\n",
        "    resultado = numero * i\n",
        "#Imprime la operación de multiplicación actual.\n",
        "    print(numero, \"x\", i, \"=\", resultado)\n"
      ],
      "metadata": {
        "id": "epDidNhDtZWj"
      },
      "execution_count": null,
      "outputs": []
    },
    {
      "cell_type": "code",
      "source": [
        "#El usuario ingresa un número  (input), que sera un entero  ya que utilizando int().\n",
        "\n",
        "numero = int(input(\"Ingrese un número para verificar si es primo: \"))\n",
        "\n",
        "# Esta variable se usará para almacenar si el número es primo o no.\n",
        "es_primo = True\n",
        "# Aqui verificamos si el número es menor o igual a 1.\n",
        "if numero <= 1:\n",
        "    es_primo = False\n",
        "else:\n",
        "# Itera a través de los posibles divisores del número hasta la raíz cuadrada del mismo.\n",
        "# Utilizamos un bucle (for) para probar cada posible divisor.\n",
        "    for i in range(2, int(numero ** 0.5) + 1):\n",
        "#Aqui nos dice que si el número es divisible por (i), no es primo.\n",
        "        if numero % i == 0:\n",
        "            es_primo = False\n",
        "# Salimos del bucle, ya que se ha encontramos un divisor.\n",
        "            break\n",
        "\n",
        "# Se muestra el resultado basado en el valor de la variable es_primo.\n",
        "\n",
        "if es_primo:\n",
        "# Si es_primo es True, el número es primo.\n",
        "    print(numero, \"es un número primo.\")\n",
        "else:\n",
        "# Si es_primo es False, el número no es primo.\n",
        "    print(numero, \"no es un número primo.\")\n"
      ],
      "metadata": {
        "id": "QBRlep24tbJb"
      },
      "execution_count": null,
      "outputs": []
    },
    {
      "cell_type": "code",
      "source": [
        "# Aqui pedimos al usuario que ingrese un número límite para la suma de los números naturales.\n",
        "limite = int(input(\"Ingrese un número límite: \"))\n",
        "\n",
        "# Inisiamos la suma total de los enteros\n",
        "suma_total = 0\n",
        "\n",
        "# Calcularemos la suma de todos los números naturales hasta el límite.\n",
        "for i in range(1, limite + 1):\n",
        "# Agregamos el número actual a la suma total.\n",
        "    suma_total += i\n",
        "\n",
        "# Muestra el resultado con el el (print).\n",
        "print(\"La suma de todos los números naturales hasta\", limite, \"es:\", suma_total)"
      ],
      "metadata": {
        "id": "E05V0rfBtfXc"
      },
      "execution_count": null,
      "outputs": []
    },
    {
      "cell_type": "code",
      "source": [
        "# Solicitamos al usuario que ingrese una cadena para invertirla.\n",
        "cadena = input(\"Ingrese una cadena para invertirla: \")\n",
        "\n",
        "# Utilizamos el slicing con un paso negativo para invertir la cadena.\n",
        "cadena_invertida = cadena[::-1]\n",
        "\n",
        "#Se imprimira la cadena invertida.\n",
        "print(\"La cadena invertida es:\", cadena_invertida)\n"
      ],
      "metadata": {
        "id": "-8A8JCoou_x3"
      },
      "execution_count": null,
      "outputs": []
    },
    {
      "cell_type": "code",
      "source": [
        "#Pedimos al usuario que ingrese una cadena para verificar si es un palíndromo.\n",
        "cadena = input(\"Ingrese una cadena para verificar si es un palíndromo: \")\n",
        "\n",
        "# Eliminamos los espacios en blanco de la cadena y se convierte a minúsculas.\n",
        "cadena = cadena.replace(\" \", \"\").lower()\n",
        "\n",
        "#Aqui verifica si la cadena es igual a su inversa\n",
        "if cadena == cadena[::-1]:\n",
        "    print(\"La cadena ingresada es un palíndromo.\")\n",
        "else:\n",
        "    print(\"La cadena ingresada no es un palíndromo.\")\n"
      ],
      "metadata": {
        "id": "-BbGHJb0vAxw"
      },
      "execution_count": null,
      "outputs": []
    },
    {
      "cell_type": "code",
      "source": [
        "# Solicitamos al usuario que ingrese un número para calcular su factorial.\n",
        "numero = int(input(\"Ingrese un número para calcular su factorial: \"))\n",
        "\n",
        "#  La condicion de (if) verifica si el número ingresado es negativo.\n",
        "if numero < 0:\n",
        "    print(\"No se puede calcular el factorial de un número negativo.\")\n",
        "# Si el número es 0, imprime que el factorial de 0 es 1.\n",
        "elif numero == 0:\n",
        "    print(\"El factorial de 0 es 1.\")\n",
        "else:\n",
        "# Si el número es positivo, inicializa una variable para almacenar el factorial.\n",
        "    factorial = 1\n",
        "# Utilizamos un (for) para calcular el factorial del número.\n",
        "# Inicia desde 1 y llega hasta el número ingresado por el usuario (inclusive)\n",
        "    for i in range(1, numero + 1):\n",
        "# Aqui multiplicamos el factorial actual por el valor de i.\n",
        "        factorial *= i\n",
        "# Imprimimos el resultado del cálculo del factorial.\n",
        "    print(\"El factorial de\", numero, \"es:\", factorial)\n",
        "\n"
      ],
      "metadata": {
        "id": "wzwjP-PuvEff"
      },
      "execution_count": null,
      "outputs": []
    },
    {
      "cell_type": "code",
      "source": [
        "# Importamos el módulo random para que se genere números aleatorios.\n",
        "import random\n",
        "#El (print) un mensaje indicando que se van a generar 5 números aleatorios entre 1 y 100.\n",
        "print(\"Generando 5 números aleatorios entre 1 y 100:\")\n",
        "# Utilizamos el  (for) para generar 5 números aleatorios.\n",
        "for _ in range(5):\n",
        "# Generamos un número aleatorio utilizando la función (randint) del módulo random.\n",
        "# La función randint recibe dos argumentos: el valor mínimo y el valor máximo del rango.\n",
        "    numero = random.randint(1, 100)\n",
        " #Nos imprime el número aleatorio.\n",
        "    print(numero)"
      ],
      "metadata": {
        "id": "JW085jYRvKJY"
      },
      "execution_count": null,
      "outputs": []
    },
    {
      "cell_type": "code",
      "source": [
        "# pedimos al usuario que ingrese el peso en kilogramos y con el (float) permitimos que ingrese enteros y decimales.\n",
        "peso = float(input(\"Ingrese su peso en kilogramos: \"))\n",
        "# Pedimos al usuario que ingrese la altura y de igual manera con el (float )podra ingresar numeros enteros y decimales.\n",
        "altura = float(input(\"Ingrese su altura en metros: \"))\n",
        "\n",
        "# Aqui utilizamos la fórmula: peso / altura al cuadrado\n",
        "imc = peso / (altura ** 2)\n",
        "# Se imprimira  cual es el resultado osea su masa corporal  y con el (imc) que es la variable  donde guardamos la operacion con los numeros  ingrsados por el usuario.\n",
        "print(\"Su índice de masa corporal (IMC) es:\", imc)"
      ],
      "metadata": {
        "id": "uLzsx4f4vNKx"
      },
      "execution_count": null,
      "outputs": []
    }
  ]
}